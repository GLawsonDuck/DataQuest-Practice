{
 "cells": [
  {
   "cell_type": "markdown",
   "id": "83818a49",
   "metadata": {},
   "source": [
    "# Exploring Hacker News Posts\n",
    "\n",
    "This is a DataQuest guided project in Python. The goal is to explore data about a selection of Hacker News posts to see whether \"Ask HN\" or \"Show HN\" posts get more comments, and whether posts at certain times of day get more comments. Ask posts are those looking for information from the community, Show posts are those aiming to show off a piece of work: code, web-page, etc. For this exercise, DataQuest removed all posts which did not receive comments, and then randomly sampled the remainder - this reduced the 300k posts of the original dataset to 20k in the dataset I'll be using.\n",
    "\n",
    "The whole dataset and documentation can be found [here](https://www.kaggle.com/datasets/hacker-news/hacker-news-posts).\n",
    "\n",
    "## Importing the dataset"
   ]
  },
  {
   "cell_type": "code",
   "execution_count": 1,
   "id": "7ea6f478",
   "metadata": {
    "scrolled": true
   },
   "outputs": [
    {
     "name": "stdout",
     "output_type": "stream",
     "text": [
      "['id', 'title', 'url', 'num_points', 'num_comments', 'author', 'created_at'] \n",
      "\n",
      "['12224879', 'Interactive Dynamic Video', 'http://www.interactivedynamicvideo.com/', '386', '52', 'ne0phyte', '8/4/2016 11:52'] \n",
      "\n",
      "['10975351', 'How to Use Open Source and Shut the Fuck Up at the Same Time', 'http://hueniverse.com/2016/01/26/how-to-use-open-source-and-shut-the-fuck-up-at-the-same-time/', '39', '10', 'josep2', '1/26/2016 19:30'] \n",
      "\n",
      "['11964716', \"Florida DJs May Face Felony for April Fools' Water Joke\", 'http://www.thewire.com/entertainment/2013/04/florida-djs-april-fools-water-joke/63798/', '2', '1', 'vezycash', '6/23/2016 22:20'] \n",
      "\n",
      "['11919867', 'Technology ventures: From Idea to Enterprise', 'https://www.amazon.com/Technology-Ventures-Enterprise-Thomas-Byers/dp/0073523429', '3', '1', 'hswarna', '6/17/2016 0:01'] \n",
      "\n"
     ]
    }
   ],
   "source": [
    "from csv import reader\n",
    "\n",
    "opened_file = open(\"hacker_news.csv\")\n",
    "\n",
    "read_file = reader(opened_file)\n",
    "\n",
    "hn = list(read_file)\n",
    "\n",
    "for row in hn[:5]: print(row, '\\n')"
   ]
  },
  {
   "cell_type": "markdown",
   "id": "606705b5",
   "metadata": {},
   "source": [
    "## Separating the column headers from the dataset"
   ]
  },
  {
   "cell_type": "code",
   "execution_count": 2,
   "id": "a6457e45",
   "metadata": {},
   "outputs": [],
   "source": [
    "hn_header = hn[0]\n",
    "\n",
    "hn = hn[1:]"
   ]
  },
  {
   "cell_type": "code",
   "execution_count": 3,
   "id": "2fccf392",
   "metadata": {},
   "outputs": [
    {
     "name": "stdout",
     "output_type": "stream",
     "text": [
      "['id', 'title', 'url', 'num_points', 'num_comments', 'author', 'created_at']\n"
     ]
    }
   ],
   "source": [
    "print(hn_header) #verifying that header row was placed into its own variable"
   ]
  },
  {
   "cell_type": "code",
   "execution_count": 4,
   "id": "a66cc599",
   "metadata": {},
   "outputs": [],
   "source": [
    "#making a header dictionary for easier identification of column indices:\n",
    "header_dict = {}\n",
    "i = 0\n",
    "for item in hn_header:\n",
    "    header_dict[item] = i\n",
    "    i += 1"
   ]
  },
  {
   "cell_type": "code",
   "execution_count": 5,
   "id": "99b52af8",
   "metadata": {},
   "outputs": [
    {
     "name": "stdout",
     "output_type": "stream",
     "text": [
      "dict_items([('id', 0), ('title', 1), ('url', 2), ('num_points', 3), ('num_comments', 4), ('author', 5), ('created_at', 6)])\n"
     ]
    }
   ],
   "source": [
    "print(header_dict.items()) #printing it out to refer back to"
   ]
  },
  {
   "cell_type": "code",
   "execution_count": 6,
   "id": "5abf4e0c",
   "metadata": {},
   "outputs": [
    {
     "name": "stdout",
     "output_type": "stream",
     "text": [
      "['12224879', 'Interactive Dynamic Video', 'http://www.interactivedynamicvideo.com/', '386', '52', 'ne0phyte', '8/4/2016 11:52'] \n",
      "\n",
      "['10975351', 'How to Use Open Source and Shut the Fuck Up at the Same Time', 'http://hueniverse.com/2016/01/26/how-to-use-open-source-and-shut-the-fuck-up-at-the-same-time/', '39', '10', 'josep2', '1/26/2016 19:30'] \n",
      "\n",
      "['11964716', \"Florida DJs May Face Felony for April Fools' Water Joke\", 'http://www.thewire.com/entertainment/2013/04/florida-djs-april-fools-water-joke/63798/', '2', '1', 'vezycash', '6/23/2016 22:20'] \n",
      "\n",
      "['11919867', 'Technology ventures: From Idea to Enterprise', 'https://www.amazon.com/Technology-Ventures-Enterprise-Thomas-Byers/dp/0073523429', '3', '1', 'hswarna', '6/17/2016 0:01'] \n",
      "\n",
      "['10301696', 'Note by Note: The Making of Steinway L1037 (2007)', 'http://www.nytimes.com/2007/11/07/movies/07stein.html?_r=0', '8', '2', 'walterbell', '9/30/2015 4:12'] \n",
      "\n"
     ]
    }
   ],
   "source": [
    "for row in hn[:5]: print(row, '\\n') #verifying that the header row was removed from the main dataset"
   ]
  },
  {
   "cell_type": "markdown",
   "id": "0e4b754c",
   "metadata": {},
   "source": [
    "## Separating out posts of interest\n",
    "\n",
    "The next step is to separate out the posts we're interested in (Ask HN and Show HN) as two lists, from all the others."
   ]
  },
  {
   "cell_type": "code",
   "execution_count": 7,
   "id": "a5a60d94",
   "metadata": {},
   "outputs": [
    {
     "name": "stdout",
     "output_type": "stream",
     "text": [
      "1\n"
     ]
    }
   ],
   "source": [
    "ask_posts = []\n",
    "show_posts = [] \n",
    "other_posts = []\n",
    "\n",
    "print(header_dict[\"title\"]) #column index"
   ]
  },
  {
   "cell_type": "code",
   "execution_count": 8,
   "id": "ec5dd2e1",
   "metadata": {},
   "outputs": [],
   "source": [
    "for row in hn:\n",
    "    \n",
    "    title = (row[1]).lower()\n",
    "\n",
    "    if title.startswith(\"ask hn\"):\n",
    "        ask_posts.append(row)\n",
    "        \n",
    "    elif title.startswith(\"show hn\"):\n",
    "        show_posts.append(row)\n",
    "        \n",
    "    else:\n",
    "        other_posts.append(row)"
   ]
  },
  {
   "cell_type": "code",
   "execution_count": 9,
   "id": "12e46b1a",
   "metadata": {},
   "outputs": [
    {
     "name": "stdout",
     "output_type": "stream",
     "text": [
      "ask:  1744 | show:  1162 | other:  17194\n"
     ]
    }
   ],
   "source": [
    "print(\"ask: \", len(ask_posts), \"| show: \", len(show_posts), \"| other: \", len(other_posts))"
   ]
  },
  {
   "cell_type": "markdown",
   "id": "b0426078",
   "metadata": {},
   "source": [
    "## Average number of comments\n",
    "\n",
    "Next I'll calculate the average number of comments received for different types of posts:"
   ]
  },
  {
   "cell_type": "code",
   "execution_count": 10,
   "id": "7a82c90a",
   "metadata": {},
   "outputs": [
    {
     "name": "stdout",
     "output_type": "stream",
     "text": [
      "4\n"
     ]
    }
   ],
   "source": [
    "print(header_dict[\"num_comments\"])"
   ]
  },
  {
   "cell_type": "code",
   "execution_count": 11,
   "id": "08c5cb5c",
   "metadata": {},
   "outputs": [
    {
     "name": "stdout",
     "output_type": "stream",
     "text": [
      "Average number of comments: \n",
      "Ask posts:  14 \n",
      "Show posts:  10\n"
     ]
    }
   ],
   "source": [
    "total_ask_comments = 0\n",
    "\n",
    "total_show_comments = 0\n",
    "\n",
    "for row in ask_posts:\n",
    "    comments = int(row[4])\n",
    "    total_ask_comments += comments\n",
    "    \n",
    "for row in show_posts:\n",
    "    comments = int(row[4])\n",
    "    total_show_comments += comments\n",
    "\n",
    "average_ask_comments = round(total_ask_comments/len(ask_posts))\n",
    "\n",
    "average_show_comments = round(total_show_comments/len(show_posts))\n",
    "\n",
    "print(\"Average number of comments:\", \"\\nAsk posts: \", average_ask_comments, '\\nShow posts: ', average_show_comments)\n"
   ]
  },
  {
   "cell_type": "markdown",
   "id": "ecf79459",
   "metadata": {},
   "source": [
    "Clearly Ask posts receive, on average, more comments than Show posts.\n",
    "\n",
    "## Post timing\n",
    "\n",
    "Dataquest requests a further analysis of whether the time of day affects how many comments Ask posts receive."
   ]
  },
  {
   "cell_type": "code",
   "execution_count": 12,
   "id": "b2ceea16",
   "metadata": {
    "scrolled": true
   },
   "outputs": [
    {
     "name": "stdout",
     "output_type": "stream",
     "text": [
      "6\n"
     ]
    }
   ],
   "source": [
    "import datetime as dt\n",
    "\n",
    "print(header_dict[\"created_at\"])"
   ]
  },
  {
   "cell_type": "markdown",
   "id": "db81c053",
   "metadata": {},
   "source": [
    "### List of post times\n",
    "\n",
    "The first task is to create a list containing the hour each Ask post was made and the number of comments it received, plus dictionaries of the overall number of posts at different hours and the number of comments at different hours."
   ]
  },
  {
   "cell_type": "code",
   "execution_count": 13,
   "id": "38a0c8cd",
   "metadata": {},
   "outputs": [],
   "source": [
    "result_list = []\n",
    "counts_by_hour = {}\n",
    "comments_by_hour = {}\n",
    "\n",
    "#post time format example 9/30/2015 4:12\n",
    "\n",
    "for post in ask_posts:\n",
    "    \n",
    "    hour = dt.datetime.strptime(post[6], \"%m/%d/%Y %H:%M\").strftime(\"%H\") #process string into datetime object, format to extract just the hour\n",
    "    \n",
    "    #`.strftime(\"%H\")` will run with the output of the `strptime()` as 'self', i.e. it will be run as `strftime(self, \"%H\")\n",
    "    \n",
    "    comments = int(post[4])\n",
    "    \n",
    "    result_list.append([hour, comments])\n",
    "    \n",
    "    if hour not in counts_by_hour:\n",
    "        counts_by_hour[hour] = 1\n",
    "        comments_by_hour[hour] = comments\n",
    "    \n",
    "    elif hour in counts_by_hour:\n",
    "        counts_by_hour[hour] += 1\n",
    "        comments_by_hour[hour] += comments"
   ]
  },
  {
   "cell_type": "markdown",
   "id": "a373eaf8",
   "metadata": {},
   "source": [
    "### Average number of comments\n",
    "\n",
    "Next I will calculate the average number of comments per Ask post per hour:"
   ]
  },
  {
   "cell_type": "code",
   "execution_count": 14,
   "id": "9dc2d16c",
   "metadata": {},
   "outputs": [],
   "source": [
    "avg_by_hour = []\n",
    "\n",
    "for hour_key in counts_by_hour:\n",
    "    avg_by_hour.append((hour_key, (comments_by_hour[hour_key]/counts_by_hour[hour_key])))"
   ]
  },
  {
   "cell_type": "markdown",
   "id": "ddab5555",
   "metadata": {},
   "source": [
    "Average number of comments per post per hour, rounded to two decimal places:"
   ]
  },
  {
   "cell_type": "code",
   "execution_count": 15,
   "id": "1588d4fc",
   "metadata": {
    "scrolled": true
   },
   "outputs": [
    {
     "name": "stdout",
     "output_type": "stream",
     "text": [
      "00 o'clock: 8.13 comments\n",
      "01 o'clock: 11.38 comments\n",
      "02 o'clock: 23.81 comments\n",
      "03 o'clock: 7.80 comments\n",
      "04 o'clock: 7.17 comments\n",
      "05 o'clock: 10.09 comments\n",
      "06 o'clock: 9.02 comments\n",
      "07 o'clock: 7.85 comments\n",
      "08 o'clock: 10.25 comments\n",
      "09 o'clock: 5.58 comments\n",
      "10 o'clock: 13.44 comments\n",
      "11 o'clock: 11.05 comments\n",
      "12 o'clock: 9.41 comments\n",
      "13 o'clock: 14.74 comments\n",
      "14 o'clock: 13.23 comments\n",
      "15 o'clock: 38.59 comments\n",
      "16 o'clock: 16.80 comments\n",
      "17 o'clock: 11.46 comments\n",
      "18 o'clock: 13.20 comments\n",
      "19 o'clock: 10.80 comments\n",
      "20 o'clock: 21.52 comments\n",
      "21 o'clock: 16.01 comments\n",
      "22 o'clock: 6.75 comments\n",
      "23 o'clock: 7.99 comments\n"
     ]
    }
   ],
   "source": [
    "avg_by_hour = sorted(avg_by_hour)\n",
    "\n",
    "for hour in avg_by_hour:\n",
    "    print((\"{time} o\\'clock: {comments:.2f} comments\").format(time = hour[0], comments = hour[1]))"
   ]
  },
  {
   "cell_type": "markdown",
   "id": "c0398950",
   "metadata": {},
   "source": [
    "Just for fun, an improvised bar graph of the results:"
   ]
  },
  {
   "cell_type": "code",
   "execution_count": 16,
   "id": "52b64908",
   "metadata": {
    "scrolled": true
   },
   "outputs": [
    {
     "name": "stdout",
     "output_type": "stream",
     "text": [
      "00 o'clock:  ----------------\n",
      "01 o'clock:  ----------------------\n",
      "02 o'clock:  ----------------------------------------------\n",
      "03 o'clock:  --------------\n",
      "04 o'clock:  --------------\n",
      "05 o'clock:  --------------------\n",
      "06 o'clock:  ------------------\n",
      "07 o'clock:  --------------\n",
      "08 o'clock:  --------------------\n",
      "09 o'clock:  ----------\n",
      "10 o'clock:  --------------------------\n",
      "11 o'clock:  ----------------------\n",
      "12 o'clock:  ------------------\n",
      "13 o'clock:  ----------------------------\n",
      "14 o'clock:  --------------------------\n",
      "15 o'clock:  ----------------------------------------------------------------------------\n",
      "16 o'clock:  --------------------------------\n",
      "17 o'clock:  ----------------------\n",
      "18 o'clock:  --------------------------\n",
      "19 o'clock:  --------------------\n",
      "20 o'clock:  ------------------------------------------\n",
      "21 o'clock:  --------------------------------\n",
      "22 o'clock:  ------------\n",
      "23 o'clock:  --------------\n"
     ]
    }
   ],
   "source": [
    "for hour in avg_by_hour:\n",
    "    print(hour[0], 'o\\'clock: ', \"--\" * (int(hour[1])))"
   ]
  },
  {
   "cell_type": "markdown",
   "id": "dea18874",
   "metadata": {},
   "source": [
    "Sorting the results from most to fewest posts per hour:"
   ]
  },
  {
   "cell_type": "code",
   "execution_count": 17,
   "id": "287ca24c",
   "metadata": {},
   "outputs": [],
   "source": [
    "avg_by_hour_reversed = []\n",
    "\n",
    "for item in avg_by_hour:\n",
    "    avg_by_hour_reversed.append((item[1], item[0]))\n",
    "    \n",
    "avg_by_hour_reversed = sorted(avg_by_hour_reversed, reverse = True)"
   ]
  },
  {
   "cell_type": "code",
   "execution_count": 18,
   "id": "0ec0ca2a",
   "metadata": {},
   "outputs": [
    {
     "name": "stdout",
     "output_type": "stream",
     "text": [
      "Average number of comments per post per hour:\n",
      "\n",
      "15:00: ------------------------------------------------------------------------------ 38.59\n",
      "02:00: ------------------------------------------------ 23.81\n",
      "20:00: -------------------------------------------- 21.52\n",
      "16:00: ---------------------------------- 16.80\n",
      "21:00: -------------------------------- 16.01\n",
      "13:00: ------------------------------ 14.74\n",
      "10:00: -------------------------- 13.44\n",
      "14:00: -------------------------- 13.23\n",
      "18:00: -------------------------- 13.20\n",
      "17:00: ---------------------- 11.46\n",
      "01:00: ---------------------- 11.38\n",
      "11:00: ---------------------- 11.05\n",
      "19:00: ---------------------- 10.80\n",
      "08:00: -------------------- 10.25\n",
      "05:00: -------------------- 10.09\n",
      "12:00: ------------------ 9.41\n",
      "06:00: ------------------ 9.02\n",
      "00:00: ---------------- 8.13\n",
      "23:00: ---------------- 7.99\n",
      "07:00: ---------------- 7.85\n",
      "03:00: ---------------- 7.80\n",
      "04:00: -------------- 7.17\n",
      "22:00: -------------- 6.75\n",
      "09:00: ------------ 5.58\n"
     ]
    }
   ],
   "source": [
    "print(\"Average number of comments per post per hour:\\n\")\n",
    "\n",
    "for hour in avg_by_hour_reversed:\n",
    "    \n",
    "    hrformat = dt.datetime.strptime(hour[1], \"%H\").strftime(\"%H:%M\")\n",
    "    \n",
    "    bar = \"--\" * (round(hour[0]))\n",
    "    \n",
    "    print((\"{time}: {bar} {comments:.2f}\").format(time = hrformat, bar = bar,  comments = hour[0]))"
   ]
  },
  {
   "cell_type": "markdown",
   "id": "a1a8416b",
   "metadata": {},
   "source": [
    "DataQuest also asks me to print the results in a specific format using `str.format()`:"
   ]
  },
  {
   "cell_type": "code",
   "execution_count": 19,
   "id": "2e328696",
   "metadata": {},
   "outputs": [
    {
     "name": "stdout",
     "output_type": "stream",
     "text": [
      "15:00: 38.59 average comments per post\n",
      "02:00: 23.81 average comments per post\n",
      "20:00: 21.52 average comments per post\n",
      "16:00: 16.80 average comments per post\n",
      "21:00: 16.01 average comments per post\n",
      "13:00: 14.74 average comments per post\n",
      "10:00: 13.44 average comments per post\n",
      "14:00: 13.23 average comments per post\n",
      "18:00: 13.20 average comments per post\n",
      "17:00: 11.46 average comments per post\n",
      "01:00: 11.38 average comments per post\n",
      "11:00: 11.05 average comments per post\n",
      "19:00: 10.80 average comments per post\n",
      "08:00: 10.25 average comments per post\n",
      "05:00: 10.09 average comments per post\n",
      "12:00: 9.41 average comments per post\n",
      "06:00: 9.02 average comments per post\n",
      "00:00: 8.13 average comments per post\n",
      "23:00: 7.99 average comments per post\n",
      "07:00: 7.85 average comments per post\n",
      "03:00: 7.80 average comments per post\n",
      "04:00: 7.17 average comments per post\n",
      "22:00: 6.75 average comments per post\n",
      "09:00: 5.58 average comments per post\n"
     ]
    }
   ],
   "source": [
    "for hour in avg_by_hour_reversed:\n",
    "    \n",
    "    hrformat = dt.datetime.strptime(hour[1], \"%H\").strftime(\"%H:%M\")\n",
    "    \n",
    "    print((\"{time}: {comments:.2f} average comments per post\").format(time = hrformat, comments = hour[0]))\n",
    "            "
   ]
  },
  {
   "cell_type": "markdown",
   "id": "108ec5d3",
   "metadata": {},
   "source": [
    "Clearly the best time to post an Ask post to get a lot of engagement is 15:00. From the documentation of the dataset, we can see that the times are recorded from the US Eastern Time zone (UTC-5). This means that the best time for me to post (from UTC+0) is at about 8pm.\n",
    "\n",
    "# Next steps:\n",
    "\n",
    "* Determine if show or ask posts receive more points on average.\n",
    "* Determine if posts created at a certain time are more likely to receive more points.\n",
    "* Compare your results to the average number of comments and points other posts receive.\n",
    "\n",
    "## Show/Ask points"
   ]
  },
  {
   "cell_type": "code",
   "execution_count": 20,
   "id": "9c843cd8",
   "metadata": {},
   "outputs": [
    {
     "name": "stdout",
     "output_type": "stream",
     "text": [
      "dict_items([('id', 0), ('title', 1), ('url', 2), ('num_points', 3), ('num_comments', 4), ('author', 5), ('created_at', 6)])\n"
     ]
    }
   ],
   "source": [
    "print(header_dict.items())"
   ]
  },
  {
   "cell_type": "code",
   "execution_count": 21,
   "id": "34fb4801",
   "metadata": {},
   "outputs": [
    {
     "name": "stdout",
     "output_type": "stream",
     "text": [
      "The average number of points on an Ask post was 15.06, and the average number of points on a Show post was 27.56.\n"
     ]
    }
   ],
   "source": [
    "#number of points on a post is at index 3\n",
    "\n",
    "total_ask = 0\n",
    "total_show = 0\n",
    "\n",
    "for post in ask_posts: \n",
    "    total_ask += int(post[3])\n",
    "\n",
    "for post in show_posts: \n",
    "    total_show += int(post[3])\n",
    "    \n",
    "avg_ask = total_ask/len(ask_posts)\n",
    "avg_show = total_show/len(show_posts)\n",
    "\n",
    "print((\"The average number of points on an Ask post was {t1:.2f}, and the average number of points on a Show post was {t2:.2f}.\"\n",
    "              ).format(t1 = avg_ask, t2 = avg_show))"
   ]
  },
  {
   "cell_type": "markdown",
   "id": "ea00be04",
   "metadata": {},
   "source": [
    "This result, in combination with previous exploration, suggests that on average when people ask a question on Hacker News they are quite likely to get lots of (hopefully helpful) comments. In contrast, when people post something they want to show off on Hacker News, they will receive a positive response (lots of votes/points), but not as many comments."
   ]
  },
  {
   "cell_type": "markdown",
   "id": "5f95831c",
   "metadata": {},
   "source": [
    "## Post timing vs points"
   ]
  },
  {
   "cell_type": "code",
   "execution_count": 22,
   "id": "9989ea36",
   "metadata": {},
   "outputs": [
    {
     "name": "stdout",
     "output_type": "stream",
     "text": [
      "Time of day vs average number of points for Ask and Share posts (top 5 times)\n",
      "\n",
      "15:00: 29.42 pts\n",
      "16:00: 25.65 pts\n",
      "12:00: 24.81 pts\n",
      "13:00: 24.46 pts\n",
      "18:00: 23.27 pts\n"
     ]
    }
   ],
   "source": [
    "#num_points index = 3\n",
    "#created_at index = 6\n",
    "\n",
    "timing_points = {}\n",
    "timing_number = {}\n",
    "\n",
    "for post in (ask_posts + show_posts):\n",
    "    hour = dt.datetime.strptime(post[6], \"%m/%d/%Y %H:%M\").strftime(\"%H\")\n",
    "    points = int(post[3])\n",
    "    \n",
    "    if hour not in timing_number:\n",
    "        timing_number[hour] = 1\n",
    "        timing_points[hour] = points\n",
    "\n",
    "    elif hour in timing_number:\n",
    "        timing_number[hour] += 1\n",
    "        timing_points[hour] += points\n",
    "        \n",
    "        \n",
    "time_point_avg = []\n",
    "\n",
    "for time in timing_number:\n",
    "    avg = int(timing_points[time])/int(timing_number[time])\n",
    "    time_point_avg.append((avg, time))\n",
    "\n",
    "print(\"Time of day vs average number of points for Ask and Share posts collectively (top 5 times)\\n\") \n",
    "\n",
    "for row in sorted(time_point_avg, reverse = True)[:5]:   #I don't really need to see the whole day, top 5 suffices\n",
    "    hrformat = dt.datetime.strptime(row[1], \"%H\").strftime(\"%H:%M\")\n",
    "    print((\"{hour}: {points:.2f} pts\").format(hour = hrformat, points = row[0]))"
   ]
  },
  {
   "cell_type": "markdown",
   "id": "58ce16c4",
   "metadata": {},
   "source": [
    "## Comparison with \"Other\" posts\n",
    "\n"
   ]
  },
  {
   "cell_type": "code",
   "execution_count": 23,
   "id": "65828d82",
   "metadata": {},
   "outputs": [
    {
     "name": "stdout",
     "output_type": "stream",
     "text": [
      "Average number of comments on \"other\" posts: 27\n"
     ]
    }
   ],
   "source": [
    "total_other_comments = 0\n",
    "\n",
    "for post in other_posts:\n",
    "    comments = int(post[4])\n",
    "    total_other_comments += comments\n",
    "    \n",
    "average_other_comments = round(total_other_comments/len(other_posts))\n",
    "\n",
    "print(\"Average number of comments on \\\"other\\\" posts:\", average_other_comments)"
   ]
  },
  {
   "cell_type": "markdown",
   "id": "b9d495c7",
   "metadata": {},
   "source": [
    "Recall that Ask posts received an average of 14 comments, and Show posts only 10. This result indicates that, in aggregate, posts other than Ask and Show posts tend to receive many more comments. Since I previously only investigated Ask posts separately, I will now do some analysis on Show posts and Other posts as individual groups.\n",
    "\n",
    "## Show/Other posts - timing\n",
    "\n",
    "I'm going to need to extract information about the number of posts per hour and the number of comments per post per hour twice more, so why not practice making a function:\n"
   ]
  },
  {
   "cell_type": "code",
   "execution_count": 24,
   "id": "0cd426b5",
   "metadata": {},
   "outputs": [],
   "source": [
    "def post_hour(dataset):\n",
    "    \n",
    "    result_list = []\n",
    "    counts_by_hour = {}\n",
    "    comments_by_hour = {}\n",
    "\n",
    "    for post in dataset:\n",
    "    \n",
    "        hour = dt.datetime.strptime(post[6], \"%m/%d/%Y %H:%M\").strftime(\"%H\")\n",
    "    \n",
    "        comments = int(post[4])\n",
    "    \n",
    "        result_list.append([hour, comments])\n",
    "    \n",
    "        if hour not in counts_by_hour:\n",
    "            counts_by_hour[hour] = 1\n",
    "            comments_by_hour[hour] = comments\n",
    "    \n",
    "        elif hour in counts_by_hour:\n",
    "            counts_by_hour[hour] += 1\n",
    "            comments_by_hour[hour] += comments\n",
    "            \n",
    "    return result_list, counts_by_hour, comments_by_hour"
   ]
  },
  {
   "cell_type": "code",
   "execution_count": 27,
   "id": "0f9c38d1",
   "metadata": {},
   "outputs": [],
   "source": [
    "#Show posts\n",
    "show_results, show_by_hour, show_comments_hour = post_hour(show_posts) #unpack the information returned by the function into 3 vars"
   ]
  },
  {
   "cell_type": "code",
   "execution_count": 28,
   "id": "30a3b012",
   "metadata": {},
   "outputs": [],
   "source": [
    "#Other posts\n",
    "other_results, other_by_hour, other_comments_hour = post_hour(other_posts)"
   ]
  },
  {
   "cell_type": "code",
   "execution_count": null,
   "id": "04712489",
   "metadata": {},
   "outputs": [],
   "source": []
  }
 ],
 "metadata": {
  "kernelspec": {
   "display_name": "Python 3 (ipykernel)",
   "language": "python",
   "name": "python3"
  },
  "language_info": {
   "codemirror_mode": {
    "name": "ipython",
    "version": 3
   },
   "file_extension": ".py",
   "mimetype": "text/x-python",
   "name": "python",
   "nbconvert_exporter": "python",
   "pygments_lexer": "ipython3",
   "version": "3.11.5"
  }
 },
 "nbformat": 4,
 "nbformat_minor": 5
}
